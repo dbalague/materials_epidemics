{
 "cells": [
  {
   "cell_type": "markdown",
   "metadata": {
    "slideshow": {
     "slide_type": "slide"
    }
   },
   "source": [
    "- To navigate in this slideshow, the spacebar moves to the next slide and shit+spacebar moves to the previous slide.\n",
    "- If the slides do not fit in your screen, reduce the zoom in your browser until you can see them correctly."
   ]
  },
  {
   "cell_type": "markdown",
   "metadata": {
    "slideshow": {
     "slide_type": "slide"
    }
   },
   "source": [
    "<p style=\"text-align: center;font-size:28px;\">\n",
    "    The “Basic Reproduction Number” and Modeling the Spread of an Epidemic\n",
    "</p>\n",
    "<br>\n",
    "<br>\n",
    "<br>\n",
    "<p style=\"text-align: center;font-size:18px;\">~~~or~~~</p>\n",
    "<br>\n",
    "<p style=\"text-align: center;font-size:28px;\">\n",
    "    How to stop the spread of Covid19 using linear ordinary differential equations\n",
    "</p>\n",
    "<br>\n",
    "<br>\n",
    "<br>\n",
    "<p style=\"text-align: center;font-size:18px;\">(at least, in a mathematical model…)</p>\n",
    "\n",
    "<p style=\"text-align: center;font-size:13px;\">\n",
    "<br>\n",
    "<br>\n",
    "<br>\n",
    "Basic Reproduction Number — Modeling the Spread of an Epidemic.  Peter Thomas. CWRU. March 5, 2020.</p>"
   ]
  },
  {
   "cell_type": "markdown",
   "metadata": {
    "slideshow": {
     "slide_type": "subslide"
    }
   },
   "source": [
    "<p style=\"text-align: center;\"><b>“Basic Reproduction Number” and Modeling the Spread of an Epidemic</b></p>\n",
    "\n",
    "<b>Definition:</b> The basic reproduction number (R0) of a disease is the average number of secondary infections produced through directly direct contact with a single infected individual, in a fully susceptible population.\n",
    "\n",
    "R0 depends on the transmission mechanism, the duration of the contagious period of an infected person, and properties of the susceptible population (hygiene, detection capabilities, quarantine policies, etc.)\n",
    "\n",
    "- If R0>1, the epidemic spreads.  \n",
    "- If R0<1, the epidemic dies out."
   ]
  },
  {
   "cell_type": "markdown",
   "metadata": {
    "slideshow": {
     "slide_type": "subslide"
    }
   },
   "source": [
    "\n",
    "<p style=\"font-size:18px;\">\n",
    "Source: <a href=\"https://en.wikipedia.org/wiki/Basic_reproduction_number\">https://en.wikipedia.org/wiki/Basic_reproduction_number</a></p>\n",
    "<div>\n",
    "<table class=\"wikitable sortable jquery-tablesorter\" align=\"left\" style=\"margin-left: 1em;\">\n",
    "<caption><b>Values of <i>R</i><sub>0</sub> of well-known infectious diseases</b>\n",
    "</caption>\n",
    "<thead><tr>\n",
    "<th align=\"center\" class=\"headerSort\" tabindex=\"0\" role=\"columnheader button\" title=\"Sort ascending\">Disease</th>\n",
    "<th align=\"center\" class=\"headerSort\" tabindex=\"0\" role=\"columnheader button\" title=\"Sort ascending\">Transmission</th>\n",
    "<th align=\"center\" class=\"headerSort\" tabindex=\"0\" role=\"columnheader button\" title=\"Sort ascending\">R<sub>0</sub>\n",
    "</th></tr></thead><tbody>\n",
    "<tr>\n",
    "<td align=\"center\">Measles</td>\n",
    "<td align=\"center\">Airborne</td>\n",
    "<td align=\"center\">12–18\n",
    "</td></tr>\n",
    "<tr>\n",
    "<td align=\"center\">Diphtheria</td>\n",
    "<td align=\"center\">Saliva</td>\n",
    "<td align=\"center\">6–7\n",
    "</td></tr>\n",
    "<tr>\n",
    "<td align=\"center\">Smallpox</td>\n",
    "<td align=\"center\">Airborne droplet</td>\n",
    "<td align=\"center\">5–7\n",
    "</td></tr>\n",
    "<tr>\n",
    "<td align=\"center\">Polio</td>\n",
    "<td align=\"center\">Fecal–oral route</td>\n",
    "<td align=\"center\">5–7\n",
    "</td></tr>\n",
    "<tr>\n",
    "<td align=\"center\">Rubella</td>\n",
    "<td align=\"center\">Airborne droplet</td>\n",
    "<td align=\"center\">5–7\n",
    "</td></tr>\n",
    "<tr>\n",
    "<td align=\"center\">Mumps</td>\n",
    "<td align=\"center\">Airborne droplet</td>\n",
    "<td align=\"center\">4–7\n",
    "</td></tr>\n",
    "<tr>\n",
    "<td align=\"center\">Pertussis</td>\n",
    "<td align=\"center\">Airborne droplet</td>\n",
    "<td align=\"center\">5.5\n",
    "</td></tr>\n",
    "<tr>\n",
    "<td align=\"center\">HIV</td>\n",
    "<td align=\"center\">Sexual contact</td>\n",
    "<td align=\"center\">2–5\n",
    "</td></tr></tbody><tfoot></tfoot></table>\n",
    "<table class=\"wikitable sortable jquery-tablesorter\" align=\"right\" style=\"margin-left: 1em;\">\n",
    "<caption><b>Values of <i>R</i><sub>0</sub> of well-known infectious diseases</b>\n",
    "</caption>\n",
    "<thead><tr>\n",
    "<th align=\"center\" class=\"headerSort\" tabindex=\"0\" role=\"columnheader button\" title=\"Sort ascending\">Disease</th>\n",
    "<th align=\"center\" class=\"headerSort\" tabindex=\"0\" role=\"columnheader button\" title=\"Sort ascending\">Transmission</th>\n",
    "<th align=\"center\" class=\"headerSort\" tabindex=\"0\" role=\"columnheader button\" title=\"Sort ascending\">R<sub>0</sub>\n",
    "</th></tr></thead><tbody>\n",
    "<tr>\n",
    "<td align=\"center\">SARS</td>\n",
    "<td align=\"center\">Airborne droplet</td>\n",
    "<td align=\"center\">2–5\n",
    "</td></tr>\n",
    "<tr>\n",
    "<td align=\"center\">COVID-19</td>\n",
    "<td align=\"center\">Airborne droplet</td>\n",
    "<td align=\"center\">1.4–3.8\n",
    "</td></tr>\n",
    "<tr>\n",
    "<td align=\"center\">Influenza<br><small>(1918 pandemic strain)</small></td>\n",
    "<td align=\"center\">Airborne droplet</td>\n",
    "<td align=\"center\">2–3\n",
    "</td></tr>\n",
    "<tr>\n",
    "<td align=\"center\">Ebola<br><small>(2014 Ebola outbreak)</small></td>\n",
    "<td align=\"center\">Body fluids</td>\n",
    "<td align=\"center\">1.5–2.5\n",
    "</td></tr>\n",
    "<tr>\n",
    "<td align=\"center\">MERS</td>\n",
    "<td align=\"center\">Airborne droplet</td>\n",
    "<td align=\"center\">0.3-0.8\n",
    "</td></tr></tbody><tfoot></tfoot></table>\n",
    "</div>\n",
    "<br><br><br><br><br><br><br><br><br><br><br>\n",
    "<p style=\"font-size:18px;\">\n",
    "See also: Lipsitch, Marc, et al. \"Transmission dynamics and control of severe acute respiratory syndrome.\" Science 300.5627 (2003): 1966-1970.</p>"
   ]
  },
  {
   "cell_type": "markdown",
   "metadata": {
    "slideshow": {
     "slide_type": "subslide"
    }
   },
   "source": [
    "### BRN for a basic Susceptible-Infected-Recovered model\n",
    "\n",
    "$S$ = Susceptible,   $I$ = Infected,   $R=1-(S+I)$ = Recovered\n",
    "\n",
    "\\begin{align*}\n",
    "\\frac{dS}{dt} &= -\\beta SI \\\\\n",
    "\\frac{dI}{dt} &= \\beta SI -\\gamma I\n",
    "\\end{align*}\n",
    "\n",
    "$\\beta$: Rate of new infection per infected idividual, per day.\n",
    "\n",
    "$\\gamma$: Rate of recovery of infected individual, per day."
   ]
  },
  {
   "cell_type": "markdown",
   "metadata": {
    "slideshow": {
     "slide_type": "subslide"
    }
   },
   "source": [
    "__Question:__ Given the BRN for a basic Susceptible-Infected-Recovered model, \n",
    "\n",
    "\\begin{align*}\n",
    "\\frac{dS}{dt} &= -\\beta SI \\\\\n",
    "\\frac{dI}{dt} &= \\beta SI -\\gamma I\n",
    "\\end{align*}\n",
    "\n",
    "What is the basic reproduction number $R_0$ for this model?"
   ]
  },
  {
   "cell_type": "markdown",
   "metadata": {
    "slideshow": {
     "slide_type": "fragment"
    }
   },
   "source": [
    "__Answer:__ $R_0 = \\beta/\\gamma$.\n",
    "\n",
    "Recall $S+I+R\\equiv 1$. For a total population of size $N\\gg 1$, starting with $S(0)=(N-1)/N$ and $I(0)=1/N$, the initial growth rate is $\\beta-\\gamma$, and $I(t)\\approx \\frac{1}{N}e^{\\beta-\\gamma)t}$ for small $t$. If $\\beta>\\gamma$, then $R_0>1$ and $I(t)$ increases."
   ]
  },
  {
   "cell_type": "markdown",
   "metadata": {
    "slideshow": {
     "slide_type": "subslide"
    }
   },
   "source": [
    "<p style=\"font-size:16px;\"><b>Other Epidemic Models</b></p>\n",
    "<img src=\"other_models.png\">\n",
    "<p style=\"font-size:14px;\">\n",
    "I0 = infected but undiagnosed / asymptomatic (latent)<br>\n",
    "I1 = infected and diagnosed / with symptoms<br>\n",
    "D = deceased\n",
    "</p>"
   ]
  },
  {
   "cell_type": "markdown",
   "metadata": {
    "slideshow": {
     "slide_type": "subslide"
    }
   },
   "source": [
    "To find the initial growth rate $\\lambda$, consider the system of two linear equations\n",
    "\\begin{align}\n",
    "\\frac{dI_0}{dt}&=\\beta_0I_0+\\beta_1I_1-\\gamma_0I_0-\\delta I_0\\\\\n",
    "\\frac{dI_1}{dt}&=\\delta I_0 -\\gamma_1I_1-\\mu I_1.\n",
    "\\end{align}\n",
    "Equivalently: $\\frac{d\\mathbf{Y}}{dt}=A\\mathbf{Y}$, with\n",
    "$A=\\begin{pmatrix}\\beta_0-\\gamma_0-\\delta & \\beta_1 \\\\ \\delta & -\\gamma_1-\\mu \\end{pmatrix}$ and $\\mathbf{Y}=\\begin{pmatrix}I_0 \\\\ I_1\\end{pmatrix}$."
   ]
  },
  {
   "cell_type": "markdown",
   "metadata": {
    "slideshow": {
     "slide_type": "subslide"
    }
   },
   "source": [
    "### Your assignment\n",
    "$\\frac{d\\mathbf{Y}}{dt}=A\\mathbf{Y}$, with\n",
    "$A=\\begin{pmatrix}\\beta_0-\\gamma_0-\\delta & \\beta_1 \\\\ \\delta & -\\gamma_1-\\mu \\end{pmatrix}$ and $\\mathbf{Y}=\\begin{pmatrix}I_0 \\\\ I_1\\end{pmatrix}$.\n",
    "Suppose the matrix $A$ has two real eigenvalues.  The larger is $\\lambda$.  If $\\lambda>0$, the epidemic spreads.   If $\\lambda<0$, it dies out.  Your assignment:\n",
    "\n",
    "1. Find $\\lambda$ for the parameters below.  For these parameters, does the epidemic spread or not?  (See next slide.)  \n",
    "2. The parameter $\\beta_1$ could be reduced through public policy such as hygiene and quarantine practices.  If $\\lambda>0$ with the original parameters, how much must you reduce $\\beta_1$\n",
    "to control the epidemic?"
   ]
  },
  {
   "cell_type": "markdown",
   "metadata": {
    "slideshow": {
     "slide_type": "subslide"
    }
   },
   "source": [
    "Equations: $\\frac{d\\mathbf{Y}}{dt}=A\\mathbf{Y}$, with\n",
    "$A=\\left(\\begin{matrix}\\beta_0-\\gamma_0-\\delta & \\beta_1 \\\\ \\delta & -\\gamma_1-\\mu \\end{matrix}\\right)$ and $\\mathbf{Y}=\\left(\\begin{matrix}I_0 \\\\ I_1\\end{matrix}\\right)$.\n",
    "\n",
    "\n",
    "| Parameter  | Value | Interpretation                                        |\n",
    "| :---------:| :----:| :-----------------------------------------------------|\n",
    "| $\\beta_0$  | 0.2   | Coefficient of infectivity from state $I_0$ (per day) |\n",
    "| $\\beta_1$  | 0.4   | Coefficient of infectivity from state $I_1$ (per day) |\n",
    "| $\\gamma_0$ | 0.2   | Recovery rate from state $I_0$ (per day)              |\n",
    "| $\\gamma_0$ | 0.1   | Recovery rate from state $I_1$ (per day)              |\n",
    "| $\\delta$   | 0.2   | Transition rate from $I_0$ to $I_1$ (per day)         |\n",
    "| $\\mu$      | 0.03  | Mortality rate (per day)                              |\n",
    "\n",
    "*Nota bene:* Prof.~Thomas made up these parameter values for purposes of illustration only, so take them with a grain of salt."
   ]
  },
  {
   "cell_type": "markdown",
   "metadata": {
    "slideshow": {
     "slide_type": "slide"
    }
   },
   "source": [
    "# Your mission, should you accept it..."
   ]
  },
  {
   "cell_type": "markdown",
   "metadata": {
    "slideshow": {
     "slide_type": "subslide"
    }
   },
   "source": [
    "<p style=\"font-size:30px;\"><b>Question 1</b></p>\n",
    "<p style=\"font-size:18px;\">Find the eigenvalues of the matrix $A=\\begin{pmatrix} -0.2 & 0.4 \\\\  0.2 & -0.13 \\end{pmatrix}$<br>\n",
    "Click on the cell below and run it using SHIFT+Enter/Return<br>\n",
    "The cell will create the matrix $A$ and it will store its eigenvectors and eigenvalues.\n",
    "</p>"
   ]
  },
  {
   "cell_type": "code",
   "execution_count": null,
   "metadata": {
    "slideshow": {
     "slide_type": "fragment"
    }
   },
   "outputs": [],
   "source": [
    "# Definition of the parameters:\n",
    "\n",
    "b0=.2; % coefficient of infectivity from state I0 (per day)\n",
    "b1=.4; % coefficient of infectivity from state I1 (per day)\n",
    "g0=.2; % recovery rate from state I0 (per day)\n",
    "g1=.1; % recovery rate from state I1 (per day)\n",
    "delta=.2; % transition rate from I0 to I1 (per day)\n",
    "mu=.03; % mortality rate (per day)\n",
    "\n",
    "# Construction of the matrix\n",
    "A=[b0-g0-delta,b1;\n",
    "    delta,-g1-mu];\n",
    "\n",
    "# Eigenvectors and Eigenvalues\n",
    "[V,dd]=eig(A);"
   ]
  },
  {
   "cell_type": "markdown",
   "metadata": {
    "slideshow": {
     "slide_type": "subslide"
    }
   },
   "source": [
    "<p style=\"font-size:30px;\"><b>Question 1 (continued)</b></p>\n",
    "<p style=\"font-size:18px;\">Run the cell below to see the eigenvalues.\n",
    "</p>"
   ]
  },
  {
   "cell_type": "code",
   "execution_count": null,
   "metadata": {
    "slideshow": {
     "slide_type": "fragment"
    }
   },
   "outputs": [],
   "source": [
    "diag(dd)"
   ]
  },
  {
   "cell_type": "markdown",
   "metadata": {
    "slideshow": {
     "slide_type": "fragment"
    }
   },
   "source": [
    "<p style=\"font-size:18px;\">Run the cell below to see the eigenvectors (in matrix form).\n",
    "</p>"
   ]
  },
  {
   "cell_type": "code",
   "execution_count": null,
   "metadata": {
    "slideshow": {
     "slide_type": "fragment"
    }
   },
   "outputs": [],
   "source": [
    "V"
   ]
  },
  {
   "cell_type": "markdown",
   "metadata": {
    "slideshow": {
     "slide_type": "subslide"
    }
   },
   "source": [
    "<p style=\"font-size:40px;\"><b>Question 1 (continued)</b></p>\n",
    "\n",
    "Follow up questions:\n",
    "1. What does the eigenvector that goes with the largest eigenvalue tell you?\n",
    "\n",
    "2. As of March 5, 2020, there have been 95,000 cases of Covid19 since the first cases appeared in early December 2019, about 90 days ago. If the infecton where still in the linear growth phase, how large would you expect $\\lambda$ to be (in units of days$^{-1}$?"
   ]
  },
  {
   "cell_type": "markdown",
   "metadata": {
    "slideshow": {
     "slide_type": "subslide"
    }
   },
   "source": [
    "<p style=\"font-size:40px;\"><b>Question 2</b></p>\n",
    "<p style=\"font-size:30px;\"> (Numerically) find the eigenvalues of $A=\\begin{pmatrix} -0.2 & \\beta_1 \\\\  0.2 & -0.13 \\end{pmatrix}$<br>\n",
    "How small must $\\beta_1$ be to stop the epidemic?\n",
    "<br><br>\n",
    "In the next cell you will find a snipped of code that will plot the real part of the eigenvalues depending on the parameter $\\beta_1$.\n",
    "    \n",
    "If you cannot see the plot after running the cell, zoom out in your browser.\n",
    "</p>"
   ]
  },
  {
   "cell_type": "code",
   "execution_count": null,
   "metadata": {
    "slideshow": {
     "slide_type": "subslide"
    }
   },
   "outputs": [],
   "source": [
    "b1min=0.1; % adjust to taste.  Try +0.1 first.  \n",
    "b1max=.4;  % adjust to taste.  Try +0.4 first.\n",
    "for b1=linspace(b1min,b1max,201)\n",
    "A=[b0-g0-delta,b1;\n",
    "    delta,-g1-mu];\n",
    "dd=eigs(A);\n",
    "plot([b1,b1],real(dd),'o','MarkerSize',10)\n",
    "hold on\n",
    "end\n",
    "set(line([b1min b1max],[0 0]),'Color','k','LineWidth',10)\n",
    "set(gca,'FontSize',20)\n",
    "xlabel('Parameter \\beta_1')\n",
    "title('Growth Rate of Epidemic')\n",
    "ylabel('Real(\\lambda_\\pm)')\n",
    "grid on\n",
    "xlim([b1min,b1max])"
   ]
  },
  {
   "cell_type": "markdown",
   "metadata": {
    "slideshow": {
     "slide_type": "subslide"
    }
   },
   "source": [
    "<img src=\"epidemics.png\">\n",
    "In this SLIR model, reducing $\\beta_1$ by a factor of four, stops the epidemic."
   ]
  },
  {
   "cell_type": "markdown",
   "metadata": {
    "slideshow": {
     "slide_type": "subslide"
    }
   },
   "source": [
    "<img src=\"roots_characteristic_polynomial.png\">\n",
    "The characteristic polynomial $P(\\lambda) = \\text{det}(A-\\lambda I)$ always has two roots, even for non-physical parameter values ($\\beta_1<0$). However, sometimes the roots form a complex conjugate pair, so here we plot the real part of $\\lambda_{\\pm}$."
   ]
  },
  {
   "cell_type": "markdown",
   "metadata": {
    "slideshow": {
     "slide_type": "subslide"
    }
   },
   "source": [
    "## Question 3\n",
    "For the SIR model, $R_0>1$, if and only if the growth rate $\\beta-\\gamma>0$.\n",
    "Calculate $R_0$ for the SLIR model, and investigate whether $R_0>1$ iff $\\lambda_+>0$ for this model as well."
   ]
  },
  {
   "cell_type": "markdown",
   "metadata": {
    "slideshow": {
     "slide_type": "slide"
    }
   },
   "source": [
    "# THE END\n",
    "\n",
    "- Original Presentation: Professor Peter J. Thomas (CWRU)\n",
    "- Adaptation to Octave and Binder Creation: Dr. Daniel Balague Guardia (CWRU)\n",
    "\n",
    "## What now?\n",
    "\n",
    "- You can go back to the previous slides with Octave code and modify them with different paramters.\n",
    "- Play with the models and the code\n",
    "- Please share/copy/modify!"
   ]
  },
  {
   "cell_type": "code",
   "execution_count": null,
   "metadata": {},
   "outputs": [],
   "source": []
  }
 ],
 "metadata": {
  "celltoolbar": "Slideshow",
  "kernelspec": {
   "display_name": "Octave",
   "language": "octave",
   "name": "octave"
  },
  "language_info": {
   "file_extension": ".m",
   "help_links": [
    {
     "text": "GNU Octave",
     "url": "https://www.gnu.org/software/octave/support.html"
    },
    {
     "text": "Octave Kernel",
     "url": "https://github.com/Calysto/octave_kernel"
    },
    {
     "text": "MetaKernel Magics",
     "url": "https://metakernel.readthedocs.io/en/latest/source/README.html"
    }
   ],
   "mimetype": "text/x-octave",
   "name": "octave",
   "version": "4.2.2"
  },
  "livereveal": {
   "autolaunch": true
  }
 },
 "nbformat": 4,
 "nbformat_minor": 4
}
